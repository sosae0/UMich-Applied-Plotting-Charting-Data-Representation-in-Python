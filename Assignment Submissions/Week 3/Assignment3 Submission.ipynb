{
 "cells": [
  {
   "cell_type": "markdown",
   "metadata": {},
   "source": [
    "# Assignment 3 - Building a Custom Visualization\n",
    "\n",
    "---\n",
    "\n",
    "In this assignment you must choose one of the options presented below and submit a visual as well as your source code for peer grading. The details of how you solve the assignment are up to you, although your assignment must use matplotlib so that your peers can evaluate your work. The options differ in challenge level, but there are no grades associated with the challenge level you chose. However, your peers will be asked to ensure you at least met a minimum quality for a given technique in order to pass. Implement the technique fully (or exceed it!) and you should be able to earn full grades for the assignment.\n",
    "\n",
    "\n",
    "&nbsp;&nbsp;&nbsp;&nbsp;&nbsp;&nbsp;Ferreira, N., Fisher, D., & Konig, A. C. (2014, April). [Sample-oriented task-driven visualizations: allowing users to make better, more confident decisions.](https://www.microsoft.com/en-us/research/wp-content/uploads/2016/02/Ferreira_Fisher_Sample_Oriented_Tasks.pdf) \n",
    "&nbsp;&nbsp;&nbsp;&nbsp;&nbsp;&nbsp;In Proceedings of the SIGCHI Conference on Human Factors in Computing Systems (pp. 571-580). ACM. ([video](https://www.youtube.com/watch?v=BI7GAs-va-Q))\n",
    "\n",
    "\n",
    "In this [paper](https://www.microsoft.com/en-us/research/wp-content/uploads/2016/02/Ferreira_Fisher_Sample_Oriented_Tasks.pdf) the authors describe the challenges users face when trying to make judgements about probabilistic data generated through samples. As an example, they look at a bar chart of four years of data (replicated below in Figure 1). Each year has a y-axis value, which is derived from a sample of a larger dataset. For instance, the first value might be the number votes in a given district or riding for 1992, with the average being around 33,000. On top of this is plotted the 95% confidence interval for the mean (see the boxplot lectures for more information, and the yerr parameter of barcharts).\n",
    "\n",
    "<br>\n",
    "<img src=\"readonly/Assignment3Fig1.png\" alt=\"Figure 1\" style=\"width: 400px;\"/>\n",
    "<h4 style=\"text-align: center;\" markdown=\"1\">  &nbsp;&nbsp;&nbsp;&nbsp;&nbsp;&nbsp;&nbsp;&nbsp;Figure 1 from (Ferreira et al, 2014).</h4>\n",
    "\n",
    "<br>\n",
    "\n",
    "A challenge that users face is that, for a given y-axis value (e.g. 42,000), it is difficult to know which x-axis values are most likely to be representative, because the confidence levels overlap and their distributions are different (the lengths of the confidence interval bars are unequal). One of the solutions the authors propose for this problem (Figure 2c) is to allow users to indicate the y-axis value of interest (e.g. 42,000) and then draw a horizontal line and color bars based on this value. So bars might be colored red if they are definitely above this value (given the confidence interval), blue if they are definitely below this value, or white if they contain this value.\n",
    "\n",
    "\n",
    "<br>\n",
    "<img src=\"readonly/Assignment3Fig2c.png\" alt=\"Figure 1\" style=\"width: 400px;\"/>\n",
    "<h4 style=\"text-align: center;\" markdown=\"1\">  Figure 2c from (Ferreira et al. 2014). Note that the colorbar legend at the bottom as well as the arrows are not required in the assignment descriptions below.</h4>\n",
    "\n",
    "<br>\n",
    "<br>\n",
    "\n",
    "**Easiest option:** Implement the bar coloring as described above - a color scale with only three colors, (e.g. blue, white, and red). Assume the user provides the y axis value of interest as a parameter or variable.\n",
    "\n",
    "\n",
    "**Harder option:** Implement the bar coloring as described in the paper, where the color of the bar is actually based on the amount of data covered (e.g. a gradient ranging from dark blue for the distribution being certainly below this y-axis, to white if the value is certainly contained, to dark red if the value is certainly not contained as the distribution is above the axis).\n",
    "\n",
    "**Even Harder option:** Add interactivity to the above, which allows the user to click on the y axis to set the value of interest. The bar colors should change with respect to what value the user has selected.\n",
    "\n",
    "**Hardest option:** Allow the user to interactively set a range of y values they are interested in, and recolor based on this (e.g. a y-axis band, see the paper for more details).\n",
    "\n",
    "---\n",
    "\n",
    "*Note: The data given for this assignment is not the same as the data used in the article and as a result the visualizations may look a little different.*"
   ]
  },
  {
   "cell_type": "code",
   "execution_count": 1,
   "metadata": {
    "collapsed": false,
    "jupyter": {
     "outputs_hidden": false
    }
   },
   "outputs": [
    {
     "data": {
      "text/plain": [
       "5"
      ]
     },
     "execution_count": 1,
     "metadata": {},
     "output_type": "execute_result"
    },
    {
     "data": {
      "image/png": "[encoded data removed]",
      "text/plain": [
       "<Figure size 432x504 with 2 Axes>"
      ]
     },
     "metadata": {
      "needs_background": "light"
     },
     "output_type": "display_data"
    }
   ],
   "source": [
    "# Use the following data for this assignment:\n",
    "\n",
    "%matplotlib inline\n",
    "import pandas as pd\n",
    "import numpy as np\n",
    "import matplotlib.pyplot as plt\n",
    "import matplotlib.colors as co\n",
    "import scipy.stats as stats\n",
    "import matplotlib.cm as cm\n",
    "\n",
    "\n",
    "\n",
    "np.random.seed(12345)\n",
    "\n",
    "df = pd.DataFrame([np.random.normal(32000,200000,3650), \n",
    "                   np.random.normal(43000,100000,3650), \n",
    "                   np.random.normal(43500,140000,3650), \n",
    "                   np.random.normal(48000,70000,3650)], \n",
    "                  index=[1992,1993,1994,1995])\n",
    "\n",
    "# Getting the mean and standard deviations, 1 is the column axis\n",
    "dfmean = df.mean(1) \n",
    "dfstd = df.std(1)\n",
    "n = len(df.columns) # or df.shape[1]\n",
    "\n",
    "# y axis default value\n",
    "mean = np.mean(dfmean.values)\n",
    "y = mean\n",
    "\n",
    "# Calculating the confidence intervals for 95%\n",
    "cal = dfstd / np.sqrt(n) * stats.norm.ppf(1 - 0.05/2)\n",
    "confidence_int = [stats.norm.interval(alpha=0.95, loc=mu, scale=se)\n",
    "                 for mu, se in zip(dfmean, dfstd / np.sqrt(n))]\n",
    "\n",
    "# Calculating the probability of the mean > y for every column\n",
    "def calculate_prob(y, confidence_int):\n",
    "    if y < np.min(confidence_int):\n",
    "        result = 1.0\n",
    "    elif y > np.max(confidence_int):\n",
    "        result = 0\n",
    "    else:\n",
    "        result = (np.max(confidence_int) - y) / (np.max(confidence_int) - np.min(confidence_int))\n",
    "    return result\n",
    "\n",
    "\n",
    "# Calculating all probabilities\n",
    "all_prob = [calculate_prob(y, i) for i in confidence_int]\n",
    "\n",
    "# Creating the color map\n",
    "cx = ['seismic', 'bwr', 'coolwarm']\n",
    "cmap = cm.get_cmap(cx[2])\n",
    "cselect = cm.ScalarMappable(cmap=cmap, norm=co.Normalize(vmin=0, vmax=1))\n",
    "cselect.set_array([])\n",
    "\n",
    "plt.figure(figsize=(6,7))\n",
    "# years = [1992, 1993, 1994,1995]\n",
    "\n",
    "mod = plt.bar(range(len(df)), dfmean, width=1, edgecolor='k', color=cselect.to_rgba(all_prob), yerr=cal, capsize=10)\n",
    "plt.title('Even Harder: Interactive y axis', fontweight='bold')\n",
    "plt.xlabel('Year')\n",
    "plt.ylabel('Value')\n",
    "\n",
    "plt.xticks(range(len(df)), df.index)\n",
    "\n",
    "# Adjustable y axis\n",
    "yt_o = plt.gca().get_yticks()\n",
    "yt = np.append(yt_o, y)\n",
    "plt.gca().set_yticks(yt)\n",
    "\n",
    "\n",
    "[plt.gca().spines[loc].set_visible(False) for loc in ['top','right']]\n",
    "\n",
    "h_line = plt.axhline(y=y, color='k', linewidth=1, linestyle=':')\n",
    "\n",
    "color_bar = plt.colorbar(cselect, orientation='horizontal')\n",
    "\n",
    "plt.locator_params(axis='x', nbins=6)\n",
    "plt.subplots_adjust(left=0.3)\n",
    "\n",
    "ytext = plt.text(1.5, 50000, 'y = %d' %y, bbox=dict(fc='white', ec='k'))\n",
    "\n",
    "# CLicking function\n",
    "\n",
    "def click_feat(occur):\n",
    "    y = occur.ydata\n",
    "    h_line.set_ydata(occur.ydata)\n",
    "    yt = np.append(yt_o, y)\n",
    "    plt.gca().set_yticks(yt)\n",
    "    ytext = plt.text(1.5, 50000, 'y = %d' %y, bbox=dict(fc='white', ec='k'))\n",
    "    \n",
    "    all_prob = [calculate_prob(y, i) for i in confidence_int]\n",
    "    for i in range(len(df)):\n",
    "        mod[i].set_color(cselect.to_rgba(all_prob[i]))\n",
    "        mod[i].set_edgecolor('gray')\n",
    "        \n",
    "plt.gcf().canvas.mpl_connect('button_press_event', click_feat)"
   ]
  }
 ],
 "metadata": {
  "kernelspec": {
   "display_name": "Python 3",
   "language": "python",
   "name": "python3"
  },
  "language_info": {
   "codemirror_mode": {
    "name": "ipython",
    "version": 3
   },
   "file_extension": ".py",
   "mimetype": "text/x-python",
   "name": "python",
   "nbconvert_exporter": "python",
   "pygments_lexer": "ipython3",
   "version": "3.8.8"
  }
 },
 "nbformat": 4,
 "nbformat_minor": 4
}
